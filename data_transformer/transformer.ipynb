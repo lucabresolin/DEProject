{
 "cells": [
  {
   "cell_type": "code",
   "execution_count": 1,
   "id": "initial_id",
   "metadata": {
    "collapsed": true,
    "ExecuteTime": {
     "end_time": "2024-01-11T20:07:39.944636Z",
     "start_time": "2024-01-11T20:07:36.613316Z"
    }
   },
   "outputs": [
    {
     "name": "stderr",
     "output_type": "stream",
     "text": [
      "Setting default log level to \"WARN\".\n",
      "To adjust logging level use sc.setLogLevel(newLevel). For SparkR, use setLogLevel(newLevel).\n",
      "24/01/11 21:07:37 WARN NativeCodeLoader: Unable to load native-hadoop library for your platform... using builtin-java classes where applicable\n"
     ]
    },
    {
     "name": "stdout",
     "output_type": "stream",
     "text": [
      "+----------+----+------------------+---------+----------+\n",
      "|      date|hour|          visitors|    unite|id_capteur|\n",
      "+----------+----+------------------+---------+----------+\n",
      "|2023-12-01|   0|               6.2|visiteurs|      NULL|\n",
      "|2023-12-01|   1|             887.0|visiteurs|      NULL|\n",
      "|2023-12-01|   2|1767.8000000000002|visiteurs|      NULL|\n",
      "|2023-12-01|   3|2648.6000000000004|visiteurs|      NULL|\n",
      "|2023-12-01|   4|          -17647.0|visiteurs|      NULL|\n",
      "|2023-12-01|   5|            4410.2|visiteurs|      NULL|\n",
      "|2023-12-01|   6|             291.0|visiteurs|      NULL|\n",
      "|2023-12-01|   7|1171.8000000000002|visiteurs|      NULL|\n",
      "|2023-12-01|   8|             263.0|visiteurs|      NULL|\n",
      "|2023-12-01|   9|            4667.0|visiteurs|      NULL|\n",
      "|2023-12-01|  10|            4071.0|visiteurs|      NULL|\n",
      "|2023-12-01|  11|            3475.0|visiteurs|      NULL|\n",
      "|2023-12-01|  12|            2879.0|visiteurs|      NULL|\n",
      "|2023-12-01|  13|            2283.0|visiteurs|      NULL|\n",
      "|2023-12-01|  14|            1687.0|visiteurs|      NULL|\n",
      "|2023-12-01|  15|            1091.0|visiteurs|      NULL|\n",
      "|2023-12-01|  16|             495.0|visiteurs|      NULL|\n",
      "|2023-12-01|  17|            4899.0|visiteurs|      NULL|\n",
      "|2023-12-01|  18|            4303.0|visiteurs|      NULL|\n",
      "|2023-12-01|  19|            3707.0|visiteurs|      NULL|\n",
      "+----------+----+------------------+---------+----------+\n"
     ]
    }
   ],
   "source": [
    "from pyspark.sql import SparkSession\n",
    "import pyspark.sql.functions as F\n",
    "\n",
    "spark = SparkSession.builder.appName(\"DataTransformer\").getOrCreate()\n",
    "df = spark.read.csv(\"../extractor_consumer/data/raw/*\", header=True)\n",
    "df.show()"
   ]
  },
  {
   "cell_type": "code",
   "outputs": [
    {
     "name": "stdout",
     "output_type": "stream",
     "text": [
      "+----------+------------------+---------+----------+\n",
      "|      date|          visitors|    unite|id_capteur|\n",
      "+----------+------------------+---------+----------+\n",
      "|2023-01-01|           53108.0|visiteurs|      NULL|\n",
      "|2023-01-02|           37780.0|visiteurs|      NULL|\n",
      "|2023-01-03|           38226.4|visiteurs|      NULL|\n",
      "|2023-01-04|38672.799999999996|visiteurs|      NULL|\n",
      "|2023-01-05|39119.200000000004|visiteurs|      NULL|\n",
      "|2023-01-06|           39565.6|visiteurs|      NULL|\n",
      "|2023-01-07|           40012.0|visiteurs|      NULL|\n",
      "|2023-01-08|           31154.0|visiteurs|      NULL|\n",
      "|2023-01-09|           40904.8|visiteurs|      NULL|\n",
      "|2023-01-10|41133.600000000006|visiteurs|      NULL|\n",
      "|2023-01-11|           39284.8|visiteurs|      NULL|\n",
      "|2023-01-12|           37244.0|visiteurs|      NULL|\n",
      "|2023-01-13|37690.399999999994|visiteurs|      NULL|\n",
      "|2023-01-14|38136.799999999996|visiteurs|      NULL|\n",
      "|2023-01-15|           58524.0|visiteurs|      NULL|\n",
      "|2023-01-16|           39029.6|visiteurs|      NULL|\n",
      "|2023-01-17|           39476.0|visiteurs|      NULL|\n",
      "|2023-01-18|39922.399999999994|visiteurs|      NULL|\n",
      "|2023-01-19|39722.799999999996|visiteurs|      NULL|\n",
      "|2023-01-20|40815.200000000004|visiteurs|      NULL|\n",
      "+----------+------------------+---------+----------+\n"
     ]
    }
   ],
   "source": [
    "ag_df = df.groupby(\"date\").agg(F.sum(F.col(\"visitors\")).alias(\"visitors\"),\n",
    "                       F.first(F.col(\"unite\")).alias(\"unite\"),\n",
    "                       F.first(F.col(\"id_capteur\")).alias(\"id_capteur\"))\n",
    "ag_df.show()"
   ],
   "metadata": {
    "collapsed": false,
    "ExecuteTime": {
     "end_time": "2024-01-11T20:07:40.505109Z",
     "start_time": "2024-01-11T20:07:39.945067Z"
    }
   },
   "id": "1bbef8259c5d7da6",
   "execution_count": 2
  },
  {
   "cell_type": "code",
   "outputs": [
    {
     "name": "stdout",
     "output_type": "stream",
     "text": [
      "nombre de lignes sans compte de visiteurs :  0\n"
     ]
    },
    {
     "data": {
      "text/plain": "373"
     },
     "execution_count": 6,
     "metadata": {},
     "output_type": "execute_result"
    }
   ],
   "source": [
    "print(f\"\"\"nombre de lignes sans compte de visiteurs :  {ag_df.where(F.col(\"visitors\").isNull()).count()}\"\"\")\n",
    "ag_df = ag_df.drop(\"id_capteur\") # drops na col\n",
    "ag_df.count()"
   ],
   "metadata": {
    "collapsed": false,
    "ExecuteTime": {
     "end_time": "2024-01-11T20:10:25.109803Z",
     "start_time": "2024-01-11T20:10:24.848092Z"
    }
   },
   "id": "a3778c00e163731",
   "execution_count": 6
  },
  {
   "cell_type": "code",
   "outputs": [],
   "source": [],
   "metadata": {
    "collapsed": false,
    "ExecuteTime": {
     "end_time": "2024-01-11T20:07:40.694500Z",
     "start_time": "2024-01-11T20:07:40.693132Z"
    }
   },
   "id": "8019aa8c9b93fc2d",
   "execution_count": 3
  }
 ],
 "metadata": {
  "kernelspec": {
   "display_name": "Python 3",
   "language": "python",
   "name": "python3"
  },
  "language_info": {
   "codemirror_mode": {
    "name": "ipython",
    "version": 2
   },
   "file_extension": ".py",
   "mimetype": "text/x-python",
   "name": "python",
   "nbconvert_exporter": "python",
   "pygments_lexer": "ipython2",
   "version": "2.7.6"
  }
 },
 "nbformat": 4,
 "nbformat_minor": 5
}
