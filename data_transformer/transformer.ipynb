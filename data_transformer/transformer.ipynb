{
 "cells": [
  {
   "cell_type": "code",
   "execution_count": 1,
   "id": "initial_id",
   "metadata": {
    "collapsed": true,
    "ExecuteTime": {
     "end_time": "2024-01-11T19:56:29.969831Z",
     "start_time": "2024-01-11T19:56:28.118857Z"
    }
   },
   "outputs": [
    {
     "name": "stderr",
     "output_type": "stream",
     "text": [
      "Setting default log level to \"WARN\".\n",
      "To adjust logging level use sc.setLogLevel(newLevel). For SparkR, use setLogLevel(newLevel).\n",
      "24/01/11 20:56:29 WARN NativeCodeLoader: Unable to load native-hadoop library for your platform... using builtin-java classes where applicable\n"
     ]
    }
   ],
   "source": [
    "from pyspark.sql import SparkSession\n",
    "\n",
    "spark = SparkSession.builder.appName(\"DataTransformer\").getOrCreate()"
   ]
  },
  {
   "cell_type": "code",
   "outputs": [
    {
     "name": "stdout",
     "output_type": "stream",
     "text": [
      "+----------+----+------------------+---------+----------+\n",
      "|      date|hour|          visitors|    unite|id_capteur|\n",
      "+----------+----+------------------+---------+----------+\n",
      "|2023-12-01|   0|               6.2|visiteurs|      NULL|\n",
      "|2023-12-01|   1|             887.0|visiteurs|      NULL|\n",
      "|2023-12-01|   2|1767.8000000000002|visiteurs|      NULL|\n",
      "|2023-12-01|   3|2648.6000000000004|visiteurs|      NULL|\n",
      "|2023-12-01|   4|          -17647.0|visiteurs|      NULL|\n",
      "|2023-12-01|   5|            4410.2|visiteurs|      NULL|\n",
      "|2023-12-01|   6|             291.0|visiteurs|      NULL|\n",
      "|2023-12-01|   7|1171.8000000000002|visiteurs|      NULL|\n",
      "|2023-12-01|   8|             263.0|visiteurs|      NULL|\n",
      "|2023-12-01|   9|            4667.0|visiteurs|      NULL|\n",
      "|2023-12-01|  10|            4071.0|visiteurs|      NULL|\n",
      "|2023-12-01|  11|            3475.0|visiteurs|      NULL|\n",
      "|2023-12-01|  12|            2879.0|visiteurs|      NULL|\n",
      "|2023-12-01|  13|            2283.0|visiteurs|      NULL|\n",
      "|2023-12-01|  14|            1687.0|visiteurs|      NULL|\n",
      "|2023-12-01|  15|            1091.0|visiteurs|      NULL|\n",
      "|2023-12-01|  16|             495.0|visiteurs|      NULL|\n",
      "|2023-12-01|  17|            4899.0|visiteurs|      NULL|\n",
      "|2023-12-01|  18|            4303.0|visiteurs|      NULL|\n",
      "|2023-12-01|  19|            3707.0|visiteurs|      NULL|\n",
      "+----------+----+------------------+---------+----------+\n"
     ]
    }
   ],
   "source": [
    "df = spark.read.csv(\"../extractor_consumer/data/raw/*\", header=True)\n",
    "df.show()"
   ],
   "metadata": {
    "collapsed": false,
    "ExecuteTime": {
     "end_time": "2024-01-11T19:57:43.285942Z",
     "start_time": "2024-01-11T19:57:41.282120Z"
    }
   },
   "id": "1bbef8259c5d7da6",
   "execution_count": 2
  }
 ],
 "metadata": {
  "kernelspec": {
   "display_name": "Python 3",
   "language": "python",
   "name": "python3"
  },
  "language_info": {
   "codemirror_mode": {
    "name": "ipython",
    "version": 2
   },
   "file_extension": ".py",
   "mimetype": "text/x-python",
   "name": "python",
   "nbconvert_exporter": "python",
   "pygments_lexer": "ipython2",
   "version": "2.7.6"
  }
 },
 "nbformat": 4,
 "nbformat_minor": 5
}
